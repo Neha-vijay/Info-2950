{
 "cells": [
  {
   "cell_type": "code",
   "execution_count": 1,
   "id": "f231459b",
   "metadata": {},
   "outputs": [],
   "source": [
    "import matplotlib.pyplot as plt\n",
    "import numpy as np\n",
    "import pandas as pd\n",
    "from   sklearn.linear_model import LogisticRegression, LinearRegression"
   ]
  },
  {
   "cell_type": "code",
   "execution_count": 2,
   "id": "681d89f8",
   "metadata": {},
   "outputs": [],
   "source": [
    "df = pd.read_csv('WHOclean-final.csv')"
   ]
  },
  {
   "cell_type": "code",
   "execution_count": 3,
   "id": "5387fc1a",
   "metadata": {},
   "outputs": [
    {
     "data": {
      "text/html": [
       "<div>\n",
       "<style scoped>\n",
       "    .dataframe tbody tr th:only-of-type {\n",
       "        vertical-align: middle;\n",
       "    }\n",
       "\n",
       "    .dataframe tbody tr th {\n",
       "        vertical-align: top;\n",
       "    }\n",
       "\n",
       "    .dataframe thead th {\n",
       "        text-align: right;\n",
       "    }\n",
       "</style>\n",
       "<table border=\"1\" class=\"dataframe\">\n",
       "  <thead>\n",
       "    <tr style=\"text-align: right;\">\n",
       "      <th></th>\n",
       "      <th>country</th>\n",
       "      <th>status</th>\n",
       "      <th>life_expectancy</th>\n",
       "      <th>adult_mortality</th>\n",
       "      <th>percentage_expenditure</th>\n",
       "      <th>hiv/aids</th>\n",
       "      <th>income_composition_of_resources</th>\n",
       "      <th>schooling</th>\n",
       "    </tr>\n",
       "  </thead>\n",
       "  <tbody>\n",
       "    <tr>\n",
       "      <th>0</th>\n",
       "      <td>Afghanistan</td>\n",
       "      <td>0.0</td>\n",
       "      <td>58.19375</td>\n",
       "      <td>269.0625</td>\n",
       "      <td>34.960110</td>\n",
       "      <td>0.10000</td>\n",
       "      <td>0.415375</td>\n",
       "      <td>8.21250</td>\n",
       "    </tr>\n",
       "    <tr>\n",
       "      <th>1</th>\n",
       "      <td>Albania</td>\n",
       "      <td>0.0</td>\n",
       "      <td>75.15625</td>\n",
       "      <td>45.0625</td>\n",
       "      <td>193.259091</td>\n",
       "      <td>0.10000</td>\n",
       "      <td>0.709875</td>\n",
       "      <td>12.13750</td>\n",
       "    </tr>\n",
       "    <tr>\n",
       "      <th>2</th>\n",
       "      <td>Algeria</td>\n",
       "      <td>0.0</td>\n",
       "      <td>73.61875</td>\n",
       "      <td>108.1875</td>\n",
       "      <td>236.185241</td>\n",
       "      <td>0.10000</td>\n",
       "      <td>0.694875</td>\n",
       "      <td>12.71250</td>\n",
       "    </tr>\n",
       "    <tr>\n",
       "      <th>3</th>\n",
       "      <td>Angola</td>\n",
       "      <td>0.0</td>\n",
       "      <td>49.01875</td>\n",
       "      <td>328.5625</td>\n",
       "      <td>102.100268</td>\n",
       "      <td>2.36875</td>\n",
       "      <td>0.458375</td>\n",
       "      <td>8.04375</td>\n",
       "    </tr>\n",
       "    <tr>\n",
       "      <th>4</th>\n",
       "      <td>Antigua and Barbuda</td>\n",
       "      <td>0.0</td>\n",
       "      <td>75.05625</td>\n",
       "      <td>127.5000</td>\n",
       "      <td>1001.585226</td>\n",
       "      <td>0.12500</td>\n",
       "      <td>0.488625</td>\n",
       "      <td>8.84375</td>\n",
       "    </tr>\n",
       "  </tbody>\n",
       "</table>\n",
       "</div>"
      ],
      "text/plain": [
       "               country  status  life_expectancy  adult_mortality  \\\n",
       "0          Afghanistan     0.0         58.19375         269.0625   \n",
       "1              Albania     0.0         75.15625          45.0625   \n",
       "2              Algeria     0.0         73.61875         108.1875   \n",
       "3               Angola     0.0         49.01875         328.5625   \n",
       "4  Antigua and Barbuda     0.0         75.05625         127.5000   \n",
       "\n",
       "   percentage_expenditure  hiv/aids  income_composition_of_resources  \\\n",
       "0               34.960110   0.10000                         0.415375   \n",
       "1              193.259091   0.10000                         0.709875   \n",
       "2              236.185241   0.10000                         0.694875   \n",
       "3              102.100268   2.36875                         0.458375   \n",
       "4             1001.585226   0.12500                         0.488625   \n",
       "\n",
       "   schooling  \n",
       "0    8.21250  \n",
       "1   12.13750  \n",
       "2   12.71250  \n",
       "3    8.04375  \n",
       "4    8.84375  "
      ]
     },
     "execution_count": 3,
     "metadata": {},
     "output_type": "execute_result"
    }
   ],
   "source": [
    "df.head()"
   ]
  },
  {
   "cell_type": "code",
   "execution_count": 4,
   "id": "e39a7b3c",
   "metadata": {},
   "outputs": [
    {
     "name": "stdout",
     "output_type": "stream",
     "text": [
      "Coefficient: -0.2981110964371132\n",
      "Intercept: 2.4091226762897286\n",
      "r^2: 0.327673170770289\n"
     ]
    }
   ],
   "source": [
    "#transform output variable\n",
    "df = df.sort_values(by=['hiv/aids'])\n",
    "#df = df.loc[df['hiv/aids']>0.1]\n",
    "log_school = np.log(df['hiv/aids'])\n",
    "\n",
    "\n",
    "#relationship\n",
    "linear = LinearRegression().fit(df[['schooling']], log_school)\n",
    "lam = linear.coef_[0]\n",
    "c = linear.intercept_\n",
    "#df = df.sort_values(by=['schooling'])\n",
    "school_prediction = np.exp(c) * np.exp(lam*df['schooling'])\n",
    "\n",
    "#results\n",
    "print('Coefficient:', lam)\n",
    "print('Intercept:', c)\n",
    "print('r^2:', linear.score(df[['schooling']], log_school))"
   ]
  },
  {
   "cell_type": "code",
   "execution_count": 5,
   "id": "cafcd51d",
   "metadata": {},
   "outputs": [
    {
     "data": {
      "image/png": "[encoded data removed]",
      "text/plain": [
       "<Figure size 432x288 with 1 Axes>"
      ]
     },
     "metadata": {
      "needs_background": "light"
     },
     "output_type": "display_data"
    }
   ],
   "source": [
    "plt.scatter(df['schooling'], df['hiv/aids'], alpha=0.5)   # observed data\n",
    "plt.plot(df['schooling'], school_prediction, c='orange', alpha=0.5) # predicted data\n",
    "plt.xlabel('Schooling')\n",
    "plt.ylabel('HIV/AIDS')\n",
    "plt.tight_layout()\n",
    "plt.show()"
   ]
  },
  {
   "cell_type": "code",
   "execution_count": null,
   "id": "e10c354e",
   "metadata": {},
   "outputs": [],
   "source": []
  }
 ],
 "metadata": {
  "kernelspec": {
   "display_name": "Python 3",
   "language": "python",
   "name": "python3"
  },
  "language_info": {
   "codemirror_mode": {
    "name": "ipython",
    "version": 3
   },
   "file_extension": ".py",
   "mimetype": "text/x-python",
   "name": "python",
   "nbconvert_exporter": "python",
   "pygments_lexer": "ipython3",
   "version": "3.8.8"
  }
 },
 "nbformat": 4,
 "nbformat_minor": 5
}
