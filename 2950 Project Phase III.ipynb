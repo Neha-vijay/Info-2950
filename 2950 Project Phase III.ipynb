{
 "cells": [
  {
   "cell_type": "markdown",
   "metadata": {},
   "source": [
    "# Info 2950 Project Phase III"
   ]
  },
  {
   "cell_type": "markdown",
   "metadata": {},
   "source": [
    "Kate Steenkamer and Milan Patlikh"
   ]
  },
  {
   "cell_type": "markdown",
   "metadata": {},
   "source": [
    "The two analyses we would like to preregister are:\n",
    "1) Single exponential decay regression with HIV/AIDS to predict average years of schooling <br>\n",
    "2) Multiple linear regression with percentage expenditure, income composition of resources, and GDP on life expectancy"
   ]
  },
  {
   "cell_type": "markdown",
   "metadata": {},
   "source": [
    "## Single exponential decay regression with HIV/AIDS to predict average years of schooling"
   ]
  },
  {
   "cell_type": "markdown",
   "metadata": {},
   "source": [
    "We plan to perform a single exponential decay regression with HIV/AIDs (deaths per 1000 live births (0-4 years)) to predict schooling (average number of years of schooling). We expect this to be an exponential decay graph because as HIV/AIDs increases we expect the average years of schooling to decrease. This is because if a country has fewer years of schooling, this suggests they have a less developed education system. Thus, they likely have a lack of sex education about spread of STI and STDs, which would cause their numbers for HIV/AIDs to be higher. With that said, this relationship is exponential because we expect that as the countries reach a certain number of years of schooling, it is the natural spread of diseases that will determine HIV/AIDs, rather than the years of education. Additionally, sexual education is usually taught during the time of sexual maturity, so a country with more students attending University likely would not have significantly more sexual education than a country with less students attending University. Overall, the earlier years of schooling will have a much bigger impact on sexual education and the spread of HIV/AIDs, with a cut-off in later years. We chose to compare these two variables because we calculated that the correlation between HIV/AIDs with schooling was 0.62, thus we would expect that HIV/AIDs would be a good predictor of average years of schooling. Thus, we hypothesize that the coefficient of determination (r^2) value for this regression would be close to 1. This would be a significant comparison for our data analysis because it will show us how schooling factors into health. As we continue to explore our data, we hope to also compare polio and diphtheria to see how schooling compares to vaccinations, as well as compare BMI to schooling to see how education level relates to a population being under or overweight. This will contribute to our analysis of the research question “how does the average education level of a country affect the country's holistic health?”\n"
   ]
  },
  {
   "cell_type": "markdown",
   "metadata": {},
   "source": [
    "## Multiple linear regression with percentage expenditure, income composition of resources, and GDP on life expectancy"
   ]
  },
  {
   "cell_type": "markdown",
   "metadata": {},
   "source": [
    "We will use percentage expenditure, income composition of resources, and GDP to predict life expectancy through a multiple linear regression. Percentage expenditure, income composition of resources, and GDP all have correlations of over 0.50 with life expectancy from our original dataset, suggesting that together, these three variables will produce a positively sloped multiple linear regression model that can be used to predict life expectancy. We expect that this relationship will have a high coefficient of determination with the multiple linear regression model. We specifically expect this relationship to be linear because the life expectancy of a country likely relates directly to the finances of the country, as countries with more money that spend more on health will have high health standards and medical infrastructure. This means that the more money a country has and the more money they spend on health, the higher their life expectancy, and vice versa for countries that have less money and spend less on health. This comparison relates to how financial variables and spending can influence life expectancy in countries. GDP measures the wealth of a country per capita, while percentage expenditure measures how much of the GDP is going towards health funding. Income composition measures how productively countries utilize their resources, as described by the dataset. All these variables relate to the overall money and government health expenditures within a country. \n"
   ]
  },
  {
   "cell_type": "markdown",
   "metadata": {},
   "source": [
    "## Questions for Reviewers"
   ]
  },
  {
   "cell_type": "markdown",
   "metadata": {},
   "source": [
    "Please check if these links work: <br>\n",
    "Data Set:\n",
    "https://drive.google.com/file/d/1uWotsPMAGiU_x2lEgssgJe6DtITk4r1I/view?usp=sharing <br>\n",
    "Source: \n",
    "https://www.kaggle.com/kumarajarshi/life-expectancy-who\n",
    "\n",
    "Questions: <br>\n",
    "Do you think we should add another dataset that adds additional information about education? <br>\n",
    "Will we learn how to do a multiple nonlinear regression (ex. multiple exponential regression)?"
   ]
  },
  {
   "cell_type": "code",
   "execution_count": null,
   "metadata": {},
   "outputs": [],
   "source": []
  }
 ],
 "metadata": {
  "kernelspec": {
   "display_name": "Python 3",
   "language": "python",
   "name": "python3"
  },
  "language_info": {
   "codemirror_mode": {
    "name": "ipython",
    "version": 3
   },
   "file_extension": ".py",
   "mimetype": "text/x-python",
   "name": "python",
   "nbconvert_exporter": "python",
   "pygments_lexer": "ipython3",
   "version": "3.8.5"
  }
 },
 "nbformat": 4,
 "nbformat_minor": 4
}
