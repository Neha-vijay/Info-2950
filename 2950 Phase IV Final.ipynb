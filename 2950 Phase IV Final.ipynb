{
 "cells": [
  {
   "cell_type": "markdown",
   "metadata": {},
   "source": [
    "# 2950 Project Phase IV"
   ]
  },
  {
   "cell_type": "markdown",
   "metadata": {},
   "source": [
    "# Introduction\n",
    "\n",
    "What is the context of the work? What research question are you trying to answer? What are your main findings? Include a brief summary of your results.<br>\n",
    "\n",
    "This project aims to analyze a dataset of data from the Global Health Observatory (GHO) data repository under the World Health Organization (WHO) and the United Nations. Together, these organizations track health, economic, and social factors for all countries.<br>\n",
    "\n",
    "Our two research questions are:<br>\n",
    "1. How does the average education level of a country affect the country's holistic health?\n",
    "2. How does a country's government spending play into the the average life expectancy of its citizens?\n",
    "\n",
    "Our main findings include:\n",
    "- a strong exponential decay relationship between the percent of citizens with HIV or AIDs and average years of schooling\n",
    "- percentage expenditure on health, income composition of resources, and gdp as strong predictors of life expectancy in a multiple linear regression\n",
    "- a single linear regression between income composition of resources and schooling which high correlation"
   ]
  },
  {
   "cell_type": "markdown",
   "metadata": {},
   "source": [
    "# Data Description\n",
    "**What are the observations (rows) and the attributes (columns)?**\n",
    "\n",
    "The rows of the data set are countries and the columns of the data set are: country (country name), year (year this data was collected), status (developed or developing country), life_expectancy (average life expectancy in age), adult_mortality (probability of dying between 15 and 60 years per 1000 population), infant_deaths (number of infant deaths per 1000 population), alcohol (alcohol consumption recorded per capita (in litres of pure alcohol)), percent_expenditure (expenditure on health as a percentage of GDP per capita), hepitatis_b (Hepatitis B immunization coverage among 1-year-olds as a percentage), measles (number of reported cases per 1000 population), BMI (average Body Mass Index), under_five_deaths (number of under-five deaths per 1000 population), polio (Polio immunization coverage among 1-year-olds as a percentage), total_expenditure (general government expenditure on health as a percentage of total government expenditure), diphtheria (diphtheria tetanus toxoid and pertussis (DTP3) immunization coverage among 1-year-olds as a percentage), hiv/aids (deaths per 1000 live births (0-4 years)), gdp (Gross Domestic Product per capita (in USD)), population, thinness__1-19_years (prevalence of thinness among children and adolescents for ages 10 to 19 as a percentage), thinness_5-9_years (prevalence of thinness among children for age 5 to 9 as a percentage), income_composition_of_resources (Human Development Index in terms of income composition of resources (index ranging from 0 to 1)), schooling (average number of years of schooling).\n",
    "\n",
    "**Why was this data set created?**\n",
    "\n",
    "Both the Global Health Observatory (GHO) data repository under the World Health Organization (WHO) and the United Nations track health statistics as well as many other related factors (economic, social, etc.) for all countries. The creators of this data set combined the data from the repository with that of the UN. They observed that in the past 15 years, there have been significant developments in the health sector specifically in terms of decreasing human mortality rates. They created this data set to compare this decreasing mortality rate to a number of other economic, social, and medical factors to analyze how they contribute.\n",
    "\n",
    "**Who funded the creation of the data set?**\n",
    "\n",
    "This project was funded by the Industrial Engineering Department at Georgia Institute of Technology.\n",
    "\n",
    "**What processes might have influenced what data was observed and recorded and what was not?**\n",
    "\n",
    "In terms of the WHO collecting data, it is possible that more developed countries have more resources and are thus more likely to have more data. With this said, in order to compare each country equitably, the data collectors must collect the same data across all countries. This means that it is possible that the data collection was limited by what data variables were available across every country.\n",
    "\n",
    "In terms of the creation of the actual data set, the creators mentioned a few factors they used to limit the data set: The creators of this data set noted that there were certain countries originally in this data set that had lots of missing data (they noted lesser known countries like Vanuatu, Tonga, Togo, Cabo Verde etc.). They shared that finding the data for these countries was difficult, so they decided to exclude the countries from the final data set of 193 countries. The creators also noted that “among all categories of health-related factors only those critical factors were chosen which are more representative”. This means that they omitted other factors that they deemed less important or less correlated to the data set.\n",
    "\n",
    "How they data cleaned: Of all health related categories in the WHO data set, only the critical factors (those with high correlations to mortality rates) were chosen to be included. The creators combined these data sets for the years 2000-2015 for 193 countries using the merge function. To account for the missing values, the developers handled it in R software by using the Missmap command.\n",
    "\n",
    "**What preprocessing was done, and how did the data come to be in the form that you are using?**\n",
    "\n",
    "The preprocessing done by the creators of the data set are outlined in two questions above. The preprocessing we did was outlined in the jupyter notebook data cleaning file.\n",
    "\n",
    "**If people are involved, were they aware of the data collection and if so, what purpose did they expect the data to be used for?**\n",
    "\n",
    "The WHO notes that all of their data sets \"represent the best estimates using methodologies for specific indicators that aim for comparability across countries and time; they are updated as more recent or revised data become available, or when there are changes to the methodology being used\". The people involved in the data collection are aware of their data being collected and understand the WHOs intent to utilize their data to analyze global health trends to serve the greater health of humanity.\n",
    "\n",
    "**Where can your raw source data be found, if applicable? Provide a link to the raw data (hosted in a Cornell Google Drive or Cornell Box).**\n",
    "\n",
    "https://drive.google.com/file/d/1uWotsPMAGiU_x2lEgssgJe6DtITk4r1I/view?usp=sharing\n"
   ]
  },
  {
   "cell_type": "markdown",
   "metadata": {},
   "source": [
    "# Pre-Registration Statement\n",
    "The two analyses we would like to preregister are:\n",
    "\n",
    "1. Single exponential decay regression with HIV/AIDS to predict average years of schooling\n",
    "2. Multiple linear regression with percentage expenditure, income composition of resources, and GDP on life expectancy"
   ]
  },
  {
   "cell_type": "markdown",
   "metadata": {},
   "source": [
    "# Summary Analysis"
   ]
  },
  {
   "cell_type": "markdown",
   "metadata": {},
   "source": [
    "Printed below is a random sample of the cleaned dataset."
   ]
  },
  {
   "cell_type": "code",
   "execution_count": 1,
   "metadata": {},
   "outputs": [
    {
     "data": {
      "text/html": [
       "<div>\n",
       "<style scoped>\n",
       "    .dataframe tbody tr th:only-of-type {\n",
       "        vertical-align: middle;\n",
       "    }\n",
       "\n",
       "    .dataframe tbody tr th {\n",
       "        vertical-align: top;\n",
       "    }\n",
       "\n",
       "    .dataframe thead th {\n",
       "        text-align: right;\n",
       "    }\n",
       "</style>\n",
       "<table border=\"1\" class=\"dataframe\">\n",
       "  <thead>\n",
       "    <tr style=\"text-align: right;\">\n",
       "      <th></th>\n",
       "      <th>country</th>\n",
       "      <th>status</th>\n",
       "      <th>life_expectancy</th>\n",
       "      <th>adult_mortality</th>\n",
       "      <th>percentage_expenditure</th>\n",
       "      <th>bmi</th>\n",
       "      <th>hiv/aids</th>\n",
       "      <th>gdp</th>\n",
       "      <th>income_composition_of_resources</th>\n",
       "      <th>schooling</th>\n",
       "    </tr>\n",
       "  </thead>\n",
       "  <tbody>\n",
       "    <tr>\n",
       "      <th>4</th>\n",
       "      <td>Antigua and Barbuda</td>\n",
       "      <td>0.0</td>\n",
       "      <td>75.05625</td>\n",
       "      <td>127.5000</td>\n",
       "      <td>1001.585226</td>\n",
       "      <td>38.42500</td>\n",
       "      <td>0.1250</td>\n",
       "      <td>9759.305728</td>\n",
       "      <td>0.488625</td>\n",
       "      <td>8.84375</td>\n",
       "    </tr>\n",
       "    <tr>\n",
       "      <th>91</th>\n",
       "      <td>Mauritania</td>\n",
       "      <td>0.0</td>\n",
       "      <td>62.80000</td>\n",
       "      <td>159.9375</td>\n",
       "      <td>31.703147</td>\n",
       "      <td>22.47500</td>\n",
       "      <td>1.1875</td>\n",
       "      <td>635.049609</td>\n",
       "      <td>0.473062</td>\n",
       "      <td>7.31875</td>\n",
       "    </tr>\n",
       "    <tr>\n",
       "      <th>139</th>\n",
       "      <td>Thailand</td>\n",
       "      <td>0.0</td>\n",
       "      <td>73.08125</td>\n",
       "      <td>160.3750</td>\n",
       "      <td>401.259963</td>\n",
       "      <td>21.59375</td>\n",
       "      <td>0.3875</td>\n",
       "      <td>3494.781702</td>\n",
       "      <td>0.694688</td>\n",
       "      <td>12.55000</td>\n",
       "    </tr>\n",
       "    <tr>\n",
       "      <th>84</th>\n",
       "      <td>Luxembourg</td>\n",
       "      <td>1.0</td>\n",
       "      <td>80.78125</td>\n",
       "      <td>67.5625</td>\n",
       "      <td>8177.576341</td>\n",
       "      <td>47.82500</td>\n",
       "      <td>0.1000</td>\n",
       "      <td>53257.012741</td>\n",
       "      <td>0.878125</td>\n",
       "      <td>13.63750</td>\n",
       "    </tr>\n",
       "    <tr>\n",
       "      <th>22</th>\n",
       "      <td>Bulgaria</td>\n",
       "      <td>1.0</td>\n",
       "      <td>72.85000</td>\n",
       "      <td>125.5000</td>\n",
       "      <td>350.745204</td>\n",
       "      <td>54.50000</td>\n",
       "      <td>0.1000</td>\n",
       "      <td>4938.981821</td>\n",
       "      <td>0.754625</td>\n",
       "      <td>13.72500</td>\n",
       "    </tr>\n",
       "    <tr>\n",
       "      <th>69</th>\n",
       "      <td>Israel</td>\n",
       "      <td>0.0</td>\n",
       "      <td>81.30000</td>\n",
       "      <td>59.5000</td>\n",
       "      <td>1467.535827</td>\n",
       "      <td>54.98750</td>\n",
       "      <td>0.1000</td>\n",
       "      <td>18860.476016</td>\n",
       "      <td>0.873188</td>\n",
       "      <td>15.71250</td>\n",
       "    </tr>\n",
       "    <tr>\n",
       "      <th>27</th>\n",
       "      <td>Cameroon</td>\n",
       "      <td>0.0</td>\n",
       "      <td>54.01875</td>\n",
       "      <td>294.8750</td>\n",
       "      <td>44.462300</td>\n",
       "      <td>23.61875</td>\n",
       "      <td>6.2125</td>\n",
       "      <td>781.016004</td>\n",
       "      <td>0.470000</td>\n",
       "      <td>8.90625</td>\n",
       "    </tr>\n",
       "    <tr>\n",
       "      <th>102</th>\n",
       "      <td>New Zealand</td>\n",
       "      <td>1.0</td>\n",
       "      <td>81.33750</td>\n",
       "      <td>71.5000</td>\n",
       "      <td>2922.147780</td>\n",
       "      <td>56.62500</td>\n",
       "      <td>0.1000</td>\n",
       "      <td>14775.554807</td>\n",
       "      <td>0.891188</td>\n",
       "      <td>18.86875</td>\n",
       "    </tr>\n",
       "    <tr>\n",
       "      <th>111</th>\n",
       "      <td>Paraguay</td>\n",
       "      <td>0.0</td>\n",
       "      <td>73.11250</td>\n",
       "      <td>139.9375</td>\n",
       "      <td>229.790694</td>\n",
       "      <td>39.52500</td>\n",
       "      <td>0.1375</td>\n",
       "      <td>1983.404335</td>\n",
       "      <td>0.656188</td>\n",
       "      <td>12.16875</td>\n",
       "    </tr>\n",
       "    <tr>\n",
       "      <th>28</th>\n",
       "      <td>Canada</td>\n",
       "      <td>0.0</td>\n",
       "      <td>81.68750</td>\n",
       "      <td>64.6250</td>\n",
       "      <td>4694.078971</td>\n",
       "      <td>55.86250</td>\n",
       "      <td>0.1000</td>\n",
       "      <td>29382.907523</td>\n",
       "      <td>0.892188</td>\n",
       "      <td>15.87500</td>\n",
       "    </tr>\n",
       "  </tbody>\n",
       "</table>\n",
       "</div>"
      ],
      "text/plain": [
       "                 country  status  life_expectancy  adult_mortality  \\\n",
       "4    Antigua and Barbuda     0.0         75.05625         127.5000   \n",
       "91            Mauritania     0.0         62.80000         159.9375   \n",
       "139             Thailand     0.0         73.08125         160.3750   \n",
       "84            Luxembourg     1.0         80.78125          67.5625   \n",
       "22              Bulgaria     1.0         72.85000         125.5000   \n",
       "69                Israel     0.0         81.30000          59.5000   \n",
       "27              Cameroon     0.0         54.01875         294.8750   \n",
       "102          New Zealand     1.0         81.33750          71.5000   \n",
       "111             Paraguay     0.0         73.11250         139.9375   \n",
       "28                Canada     0.0         81.68750          64.6250   \n",
       "\n",
       "     percentage_expenditure       bmi  hiv/aids           gdp  \\\n",
       "4               1001.585226  38.42500    0.1250   9759.305728   \n",
       "91                31.703147  22.47500    1.1875    635.049609   \n",
       "139              401.259963  21.59375    0.3875   3494.781702   \n",
       "84              8177.576341  47.82500    0.1000  53257.012741   \n",
       "22               350.745204  54.50000    0.1000   4938.981821   \n",
       "69              1467.535827  54.98750    0.1000  18860.476016   \n",
       "27                44.462300  23.61875    6.2125    781.016004   \n",
       "102             2922.147780  56.62500    0.1000  14775.554807   \n",
       "111              229.790694  39.52500    0.1375   1983.404335   \n",
       "28              4694.078971  55.86250    0.1000  29382.907523   \n",
       "\n",
       "     income_composition_of_resources  schooling  \n",
       "4                           0.488625    8.84375  \n",
       "91                          0.473062    7.31875  \n",
       "139                         0.694688   12.55000  \n",
       "84                          0.878125   13.63750  \n",
       "22                          0.754625   13.72500  \n",
       "69                          0.873188   15.71250  \n",
       "27                          0.470000    8.90625  \n",
       "102                         0.891188   18.86875  \n",
       "111                         0.656188   12.16875  \n",
       "28                          0.892188   15.87500  "
      ]
     },
     "execution_count": 1,
     "metadata": {},
     "output_type": "execute_result"
    }
   ],
   "source": [
    "import matplotlib.pyplot as plt\n",
    "import seaborn as sns\n",
    "import numpy as np\n",
    "import pandas as pd\n",
    "from   sklearn.linear_model import LogisticRegression, LinearRegression\n",
    "df = pd.read_csv('WHOcleaner.csv')\n",
    "df.sample(10)"
   ]
  },
  {
   "cell_type": "markdown",
   "metadata": {},
   "source": [
    "We found the mean of life expectancy and adult mortality overall, as well as for developed vs. developing countries. To reiterate, developing countries have a status value of 0.0 and developed countries have a status value of 1.0."
   ]
  },
  {
   "cell_type": "code",
   "execution_count": 2,
   "metadata": {},
   "outputs": [
    {
     "name": "stdout",
     "output_type": "stream",
     "text": [
      "The average life expectancy is 69.4729.\n"
     ]
    },
    {
     "data": {
      "text/html": [
       "<div>\n",
       "<style scoped>\n",
       "    .dataframe tbody tr th:only-of-type {\n",
       "        vertical-align: middle;\n",
       "    }\n",
       "\n",
       "    .dataframe tbody tr th {\n",
       "        vertical-align: top;\n",
       "    }\n",
       "\n",
       "    .dataframe thead th {\n",
       "        text-align: right;\n",
       "    }\n",
       "</style>\n",
       "<table border=\"1\" class=\"dataframe\">\n",
       "  <thead>\n",
       "    <tr style=\"text-align: right;\">\n",
       "      <th></th>\n",
       "      <th>life_expectancy</th>\n",
       "    </tr>\n",
       "    <tr>\n",
       "      <th>status</th>\n",
       "      <th></th>\n",
       "    </tr>\n",
       "  </thead>\n",
       "  <tbody>\n",
       "    <tr>\n",
       "      <th>0.0</th>\n",
       "      <td>67.278248</td>\n",
       "    </tr>\n",
       "    <tr>\n",
       "      <th>1.0</th>\n",
       "      <td>79.427009</td>\n",
       "    </tr>\n",
       "  </tbody>\n",
       "</table>\n",
       "</div>"
      ],
      "text/plain": [
       "        life_expectancy\n",
       "status                 \n",
       "0.0           67.278248\n",
       "1.0           79.427009"
      ]
     },
     "execution_count": 2,
     "metadata": {},
     "output_type": "execute_result"
    }
   ],
   "source": [
    "print(f\"The average life expectancy is{df.life_expectancy.mean(): 0.4f}.\")\n",
    "df.groupby('status').mean()[['life_expectancy']]"
   ]
  },
  {
   "cell_type": "code",
   "execution_count": 3,
   "metadata": {},
   "outputs": [
    {
     "name": "stdout",
     "output_type": "stream",
     "text": [
      "The average adult mortality is 160.8806.\n"
     ]
    },
    {
     "data": {
      "text/html": [
       "<div>\n",
       "<style scoped>\n",
       "    .dataframe tbody tr th:only-of-type {\n",
       "        vertical-align: middle;\n",
       "    }\n",
       "\n",
       "    .dataframe tbody tr th {\n",
       "        vertical-align: top;\n",
       "    }\n",
       "\n",
       "    .dataframe thead th {\n",
       "        text-align: right;\n",
       "    }\n",
       "</style>\n",
       "<table border=\"1\" class=\"dataframe\">\n",
       "  <thead>\n",
       "    <tr style=\"text-align: right;\">\n",
       "      <th></th>\n",
       "      <th>adult_mortality</th>\n",
       "    </tr>\n",
       "    <tr>\n",
       "      <th>status</th>\n",
       "      <th></th>\n",
       "    </tr>\n",
       "  </thead>\n",
       "  <tbody>\n",
       "    <tr>\n",
       "      <th>0.0</th>\n",
       "      <td>178.779528</td>\n",
       "    </tr>\n",
       "    <tr>\n",
       "      <th>1.0</th>\n",
       "      <td>79.696429</td>\n",
       "    </tr>\n",
       "  </tbody>\n",
       "</table>\n",
       "</div>"
      ],
      "text/plain": [
       "        adult_mortality\n",
       "status                 \n",
       "0.0          178.779528\n",
       "1.0           79.696429"
      ]
     },
     "execution_count": 3,
     "metadata": {},
     "output_type": "execute_result"
    }
   ],
   "source": [
    "print(f\"The average adult mortality is{df.adult_mortality.mean(): 0.4f}.\")\n",
    "df.groupby('status').mean()[['adult_mortality']]"
   ]
  },
  {
   "cell_type": "markdown",
   "metadata": {},
   "source": [
    "We also were curious to determine the ratio of developing countries to developed countries."
   ]
  },
  {
   "cell_type": "code",
   "execution_count": 4,
   "metadata": {},
   "outputs": [
    {
     "data": {
      "text/plain": [
       "status\n",
       "0.0    127\n",
       "1.0     28\n",
       "dtype: int64"
      ]
     },
     "execution_count": 4,
     "metadata": {},
     "output_type": "execute_result"
    }
   ],
   "source": [
    "df.value_counts(subset=df.status)"
   ]
  },
  {
   "cell_type": "markdown",
   "metadata": {},
   "source": [
    "# Data Analysis"
   ]
  },
  {
   "cell_type": "markdown",
   "metadata": {},
   "source": [
    "**Exponential Decay Regression: HIV/AIDs and Schooling**"
   ]
  },
  {
   "cell_type": "code",
   "execution_count": 5,
   "metadata": {},
   "outputs": [
    {
     "name": "stdout",
     "output_type": "stream",
     "text": [
      "Coefficient:-0.0139.\n",
      "Intercept: 2.4850.\n",
      "r^2: 0.0528.\n"
     ]
    },
    {
     "data": {
      "image/png": "[encoded data removed]",
      "text/plain": [
       "<Figure size 432x288 with 1 Axes>"
      ]
     },
     "metadata": {
      "needs_background": "light"
     },
     "output_type": "display_data"
    }
   ],
   "source": [
    "#transform output variable\n",
    "x='hiv/aids'\n",
    "y= 'schooling'\n",
    "log_y = np.log(df[y])\n",
    "pred= []\n",
    "cleaned_pred= []\n",
    "\n",
    "#relationship\n",
    "model = LinearRegression().fit(df[[x]], log_y)\n",
    "pred.append(np.exp(model.intercept_) * np.exp(model.coef_[0] * df[x]))\n",
    "y_pred = np.exp(model.intercept_) * np.exp(model.coef_[0] * df[x])\n",
    "cleaned_pred.append(y_pred)\n",
    "\n",
    "#graph\n",
    "plt.figure()\n",
    "sns.scatterplot(data=df, y=\"schooling\", x='hiv/aids')\n",
    "indices = np.argsort(df[x].values)\n",
    "plt.plot(df[x].values[indices], cleaned_pred[0][indices], c='orange')\n",
    "plt.ylabel('Schooling')\n",
    "plt.xlabel('HIV/AIDS')\n",
    "plt.tight_layout()\n",
    "print(f\"Coefficient:{model.coef_[0]: 0.4f}.\")\n",
    "print(f\"Intercept:{model.intercept_: 0.4f}.\")\n",
    "print(f\"r^2:{model.score(df[[x]], log_y): 0.4f}.\")"
   ]
  },
  {
   "cell_type": "markdown",
   "metadata": {},
   "source": [
    "We originally preregistered that we think HIV/AIDs could predict schooling with an exponential decay model. After running this model and graphic it above, we notice that it seems a bit off. Reflecting on our previous thoughts, we realize that we were thinking more along the lines of the inverse relationship, where the amount of schooling predicts the prevelance of HIV/AIDs in a country with a exponential decay model. Thus, to see if this is true, we will run the same model with the x and y axes flipped below."
   ]
  },
  {
   "cell_type": "code",
   "execution_count": 6,
   "metadata": {},
   "outputs": [
    {
     "name": "stdout",
     "output_type": "stream",
     "text": [
      "Coefficient:-0.3130.\n",
      "Intercept: 2.6674.\n",
      "r^2: 0.3418.\n"
     ]
    },
    {
     "data": {
      "image/png": "[encoded data removed]",
      "text/plain": [
       "<Figure size 432x288 with 1 Axes>"
      ]
     },
     "metadata": {
      "needs_background": "light"
     },
     "output_type": "display_data"
    }
   ],
   "source": [
    "#transform output variable\n",
    "y='hiv/aids'\n",
    "x='schooling'\n",
    "log_y = np.log(df[y])\n",
    "pred= []\n",
    "cleaned_pred= []\n",
    "\n",
    "#relationship\n",
    "model = LinearRegression().fit(df[[x]], log_y)\n",
    "pred.append(np.exp(model.intercept_) * np.exp(model.coef_[0] * df[x]))\n",
    "y_pred = np.exp(model.intercept_) * np.exp(model.coef_[0] * df[x])\n",
    "cleaned_pred.append(y_pred)\n",
    "\n",
    "#graph\n",
    "plt.figure()\n",
    "sns.scatterplot(data=df, x=\"schooling\", y='hiv/aids')\n",
    "indices = np.argsort(df[x].values)\n",
    "plt.plot(df[x].values[indices], cleaned_pred[0][indices], c='orange')\n",
    "plt.xlabel('Schooling')\n",
    "plt.ylabel('HIV/AIDS')\n",
    "plt.tight_layout()\n",
    "print(f\"Coefficient:{model.coef_[0]: 0.4f}.\")\n",
    "print(f\"Intercept:{model.intercept_: 0.4f}.\")\n",
    "print(f\"r^2:{model.score(df[[x]], log_y): 0.4f}.\")"
   ]
  },
  {
   "cell_type": "markdown",
   "metadata": {},
   "source": [
    "**Interpretation and Conclusions:**\n",
    "\n",
    "As seen above, this inversion of the axes definitely fits the exponential decay model more. However, the model does not seem too predictive. The r-squared value of 0.3418 is relatively low, implying that this model is not a great way to accurately predict HIV/AIDs rates from schooling years. \n",
    "\n",
    "After graphing the scatter plot and model line above, it appears that there is a lot of data near the center of the schooling axis that has a lot high rates of HIV/AIDs, even more so than countries that have the lowest amounts of schooling. This data has an interesting plot, but does not seem to accurately fit the exponential decay model. Countries with many years of schooling have an HIV/AIDs rate that approaches 0.00, following the exponential decay model. However, majority of the countries with less than 14 years of schooling have HIV/AIDs rates that are understated by the model compared to the actual values. \n",
    "\n",
    "Overall, our original hypothesis that schooling has a high predictive value for HIV/AIDs seems to be inconclusive, as the exponential decay model did not fit as well as intended, and the scatterplot has an interesting shape that likely would not match other models as well."
   ]
  },
  {
   "cell_type": "markdown",
   "metadata": {},
   "source": [
    "# Single Linear Regression: Income Composition of Resources\n",
    "\n",
    "Based off the previous model of HIV/AIDs, we cannot predict much from average amount of schooling, but since schooling has such a high correlation to life expectancy in this data set as we found in phase ii, we want to explore it more. Specifically, comparing schooling to income composition of resources is particularly interesting. Both income composition of resources and schooling had high correlations with life expectancy, so we suspect these variables have a linear relationship. If there is a positive linear relationship, since income composition of resources relates to how efficiently a country uses its resources, this would mean that schooling is a very efficient and effective way for governments to spend money."
   ]
  },
  {
   "cell_type": "code",
   "execution_count": 7,
   "metadata": {},
   "outputs": [
    {
     "data": {
      "image/png": "[encoded data removed]",
      "text/plain": [
       "<Figure size 432x288 with 1 Axes>"
      ]
     },
     "metadata": {
      "needs_background": "light"
     },
     "output_type": "display_data"
    },
    {
     "name": "stdout",
     "output_type": "stream",
     "text": [
      "r^2:  0.7395.\n"
     ]
    }
   ],
   "source": [
    "school_model = LinearRegression()\n",
    "school_model.fit(df[['income_composition_of_resources']], df['schooling'])\n",
    "plt.scatter(df.income_composition_of_resources, df.schooling)\n",
    "plt.plot(df.income_composition_of_resources, school_model.predict(df[['income_composition_of_resources']]), c='orange')\n",
    "plt.show()\n",
    "print(f\"r^2: {school_model.score(df[['income_composition_of_resources']], df['schooling']): 0.4f}.\")"
   ]
  },
  {
   "cell_type": "markdown",
   "metadata": {},
   "source": [
    "**Interpretation and Conclusions:**\n",
    "\n",
    "As seen above, the scatterplot closely fits a linear regression model and has a very high coefficient of determination of 0.7395. This means that as income composition of resources increases, there is a high predictive chance that a country has higher amounts of schooling. Essentially, if a country is efficiently spending their money, they also likely have a high average years of schooling."
   ]
  },
  {
   "cell_type": "markdown",
   "metadata": {},
   "source": [
    "**Multiple Linear Regression: percentage expenditure on health, income composition of resources, and gdp as predictors of life expectancy**"
   ]
  },
  {
   "cell_type": "code",
   "execution_count": 8,
   "metadata": {},
   "outputs": [
    {
     "name": "stdout",
     "output_type": "stream",
     "text": [
      "r^2: 0.6779.\n"
     ]
    }
   ],
   "source": [
    "multireg= LinearRegression().fit(df[[\"percentage_expenditure\", \"income_composition_of_resources\", \"gdp\"]], df[\"life_expectancy\"])\n",
    "multi= multireg.score(df[[\"percentage_expenditure\", \"income_composition_of_resources\", \"gdp\"]], df[\"life_expectancy\"])\n",
    "print(f\"r^2: {multi:0.4f}.\")"
   ]
  },
  {
   "cell_type": "code",
   "execution_count": 9,
   "metadata": {},
   "outputs": [
    {
     "data": {
      "text/plain": [
       "<seaborn.axisgrid.FacetGrid at 0x7f9bb67ae880>"
      ]
     },
     "execution_count": 9,
     "metadata": {},
     "output_type": "execute_result"
    },
    {
     "data": {
      "image/png": "[encoded data removed]",
      "text/plain": [
       "<Figure size 360x360 with 1 Axes>"
      ]
     },
     "metadata": {
      "needs_background": "light"
     },
     "output_type": "display_data"
    },
    {
     "data": {
      "image/png": "[encoded data removed]",
      "text/plain": [
       "<Figure size 360x360 with 1 Axes>"
      ]
     },
     "metadata": {
      "needs_background": "light"
     },
     "output_type": "display_data"
    },
    {
     "data": {
      "image/png": "[encoded data removed]",
      "text/plain": [
       "<Figure size 360x360 with 1 Axes>"
      ]
     },
     "metadata": {
      "needs_background": "light"
     },
     "output_type": "display_data"
    }
   ],
   "source": [
    "sns.relplot(x= \"percentage_expenditure\", y=\"life_expectancy\", data=df)\n",
    "sns.relplot(x=\"gdp\", y=\"life_expectancy\", data=df)\n",
    "sns.relplot(x=\"income_composition_of_resources\", y=\"life_expectancy\", data=df)"
   ]
  },
  {
   "cell_type": "markdown",
   "metadata": {},
   "source": [
    "**Interpretation and Conclusions**<br>\n",
    "\n",
    "With a coefficient of determination of 0.6779, the multiple linear regression shows that percentage expenditure on health, income composition of resources, and GDP account for a high percentage of the variance of life expectancy. We plotted the scatter plots of each predictor variable with life expectancy to show how the graphs share an increasing nature. \n",
    "\n",
    "Percentage expenditure and GDP have a similar relationship, where life expectancy increases while the two predictor variables stay close to 0, and then the data starts to curve when the percentage expenditure reaches about 1000 and GDP reaches about 75000. This relationship suggests that life expectancy varies significantly (between 46 and 72) when percentage expenditure is low (between 0% and 1000%); however, when a country spends more than 1000% of GDP per capita on health, the life expectancy is consisitantly between 72 and 83 years. Similarly, when a country has a GDP per capita between 0 and 75000 US dollars, their life expectancy ranges between 46 and 72; however, when a country has a GDP per capita higher than 75000 US dollars, the life expectancy is pretty consistantly between 72 and 83 years.\n",
    "\n",
    "\n",
    "The plot of income composition of resources and GDP shows higher variance and a more linear relationship. The data has high variance between 0 and 0.65 of Human Development Index in terms of income composition of resources and between 42 and 72 life expectancy; however, the data becomes more clustered with less error as income composition of resources is higher than 0.65 and life expectance is higher than 72. \n",
    "\n",
    "In a real world application, this finding suggests that the GDP of a country and the amount of money that country chooses to allocate to healthcare can be used to accurately predict the average life expectancy of that country. This makes sense, as the more money a country has and the more of this money they put towards health, the better quality and quantity healthcare workers, facilities, and resources. This makes it so that ill people are able to easily attain the treatment they need, thus increasing the overall live expectancy. The variance between 46 and 72 of life expectancy on all three graphs when a country spent little on healthcare are likely caused by incurable illnesses or other physical attributes of the country like size, population, and climate, rather than to the economic factors we explored."
   ]
  },
  {
   "cell_type": "markdown",
   "metadata": {},
   "source": [
    "# Evaluation of Significance\n",
    "**Bootstrapping Hypothesis Test on Multiple Linear Regression**"
   ]
  },
  {
   "cell_type": "code",
   "execution_count": 10,
   "metadata": {
    "scrolled": true
   },
   "outputs": [
    {
     "name": "stdout",
     "output_type": "stream",
     "text": [
      "Observed slope:   0.0004132\n",
      "Bootstrapped CI: [-0.00071765  0.00123863]\n"
     ]
    },
    {
     "data": {
      "image/png": "[encoded data removed]",
      "text/plain": [
       "<Figure size 432x288 with 1 Axes>"
      ]
     },
     "metadata": {
      "needs_background": "light"
     },
     "output_type": "display_data"
    }
   ],
   "source": [
    "real_slope = multireg.coef_[0]\n",
    "n_bootstrap = 1000\n",
    "bootstrap_slopes = np.zeros(n_bootstrap)\n",
    "\n",
    "for i in range(n_bootstrap):\n",
    "    resampled_data = df.sample(n=len(df), replace=True)\n",
    "    resampled_model = LinearRegression().fit(resampled_data[[\"percentage_expenditure\", \"income_composition_of_resources\", \"gdp\"]], resampled_data[\"life_expectancy\"])\n",
    "    \n",
    "    bootstrap_slopes[i] = resampled_model.coef_[0]\n",
    "    \n",
    "print(f'Observed slope:  {real_slope: 0.7f}')\n",
    "print(f'Bootstrapped CI: {np.quantile(bootstrap_slopes, q=[0.025, 0.975])}')\n",
    "\n",
    "binsizes, _, _ = plt.hist(bootstrap_slopes, bins=50)\n",
    "plt.vlines(real_slope, ymin=0, ymax=np.max(binsizes), color='red')\n",
    "plt.vlines(np.quantile(bootstrap_slopes, q=[0.025])[0], ymin=0, ymax=np.max(binsizes), color='green')\n",
    "plt.vlines(np.quantile(bootstrap_slopes, q=[0.975])[0], ymin=0, ymax=np.max(binsizes), color='green')\n",
    "plt.show()"
   ]
  },
  {
   "cell_type": "markdown",
   "metadata": {},
   "source": [
    "**Interpretation and Conclusions**\n",
    "\n",
    "We performed a boostrap resampling hypothesis test on the multiple linear regression of percentage expenditure on health, income composition of resources, and gdp as predictors of life expectancy. We took 100 different samples of our data with replacement and found a confidence interval of [-0.0007416, 0.00129752]. Since our observed slope was 0.0004132, our slope falls within our confidence interval. This proves that our observed pattern is robust."
   ]
  },
  {
   "cell_type": "markdown",
   "metadata": {},
   "source": [
    "# Limitations \n",
    "What are the limitations of your study? What are the biases in your data or assumptions of your analyses that specifically affect the conclusions you're able to draw? <br>\n",
    "\n",
    "Limitations: only 173 countries our of 195; mostly developing countries; could use variables on some rating of the quality of schooling and the number of hospitals per capita; confounding variables that affect life expectancy such as quality of living, political climate, war status, genetics, etc. <br>\n",
    "\n",
    "Biases: developing countries have less data on health, inherent bias in declaring a country developed or undeveloped <br>"
   ]
  },
  {
   "cell_type": "markdown",
   "metadata": {},
   "source": [
    "# Source Code\n",
    "\n",
    "Github link: https://github.com/milan-patlikh/info-2950"
   ]
  },
  {
   "cell_type": "markdown",
   "metadata": {},
   "source": [
    "# Acknowledgments\n",
    "\n",
    "Software Packages: Pandas, Numpy, Matplotlib, Seaborn<br>\n",
    "\n",
    "Homework 6 question 4 solutions from Maria (TA)<br>\n",
    "Homeworks 4-7<br>\n",
    "Lectures 10-19<br>\n",
    "\n",
    "Dataset Source: https://www.kaggle.com/kumarajarshi/life-expectancy-who <br>\n",
    "\n",
    "Original Data Sources: Global Health Observatory (GHO) data repository under the World Health Organization (WHO); the United Nations data repository<br>\n",
    "\n",
    "Consulted with TAs Maria and Sam in office hours.<br>\n",
    "\n",
    "We did not consult any stack overflow questions, other classes, or people outside of each other, Sam, and Maria.\n",
    "\n",
    "Additional sources used to aid the writing of conclusions: <br>\n",
    "https://towardsdatascience.com/how-different-factors-have-an-influence-on-your-life-expectancy-7b807b04f33e <br>"
   ]
  },
  {
   "cell_type": "markdown",
   "metadata": {},
   "source": [
    "# Questions for Reviewers\n",
    "\n",
    "Do we have enough summary statistics? (\"Use summary functions like mean and standard deviation along with visual displays like scatter plots and histograms to describe data\")\n",
    "\n",
    "We plan to further explain our limitations sections, but do you think we have enough limitations and biases? If not, do you have any suggestions for things we could think about when developing more?"
   ]
  },
  {
   "cell_type": "code",
   "execution_count": null,
   "metadata": {},
   "outputs": [],
   "source": []
  }
 ],
 "metadata": {
  "kernelspec": {
   "display_name": "Python 3",
   "language": "python",
   "name": "python3"
  },
  "language_info": {
   "codemirror_mode": {
    "name": "ipython",
    "version": 3
   },
   "file_extension": ".py",
   "mimetype": "text/x-python",
   "name": "python",
   "nbconvert_exporter": "python",
   "pygments_lexer": "ipython3",
   "version": "3.8.5"
  }
 },
 "nbformat": 4,
 "nbformat_minor": 5
}
