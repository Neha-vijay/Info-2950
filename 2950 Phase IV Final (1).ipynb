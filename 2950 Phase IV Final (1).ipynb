{
 "cells": [
  {
   "cell_type": "markdown",
   "metadata": {},
   "source": [
    "# 2950 Project Phase IV"
   ]
  },
  {
   "cell_type": "markdown",
   "metadata": {},
   "source": [
    "# Introduction\n",
    "\n",
    "What is the context of the work? What research question are you trying to answer? What are your main findings? Include a brief summary of your results.<br>\n",
    "\n",
    "This project aims to analyze data from the Global Health Observatory (GHO) data repository under the World Health Organization (WHO) and the United Nations. Together, these organizations track health, economic, and education factors for all countries. We will draw correlations and explain the relationships between these factors. <br>\n",
    "\n",
    "Our two research questions are:<br>\n",
    "1. How does the average education level of a country affect the country's holistic health?\n",
    "2. How does a country's government spending play into the average life expectancy and average education level of its citizens?\n",
    "\n",
    "Our main findings include:\n",
    "- The exponential decay relationship between the percent of citizens with HIV or AIDs and average years of schooling has a low coefficient of determination. While it somewhat appears to fit the regression, large outliers in the set skew the relationship. \n",
    "- Percentage expenditure on health, income composition of resources, and gdp are strong predictors of life expectancy in a multiple linear regression. This is shown through a high correlation of coefficient and a bootstrapping hypothesis test.\n",
    "- A single linear regression between income composition of resources and schooling shows high correlation implying that countries who spend more on healthcare are also likely to allocate more funds to education."
   ]
  },
  {
   "cell_type": "markdown",
   "metadata": {},
   "source": [
    "# Data Description\n",
    "**What are the observations (rows) and the attributes (columns)?**\n",
    "\n",
    "The rows of the data set are countries and the columns of the data set are: country (country name), year (year this data was collected), status (developed or developing country), life_expectancy (average life expectancy in age), adult_mortality (probability of dying between 15 and 60 years per 1000 population), infant_deaths (number of infant deaths per 1000 population), alcohol (alcohol consumption recorded per capita (in litres of pure alcohol)), percent_expenditure (expenditure on health as a percentage of GDP per capita), hepitatis_b (Hepatitis B immunization coverage among 1-year-olds as a percentage), measles (number of reported cases per 1000 population), BMI (average Body Mass Index), under_five_deaths (number of under-five deaths per 1000 population), polio (Polio immunization coverage among 1-year-olds as a percentage), total_expenditure (general government expenditure on health as a percentage of total government expenditure), diphtheria (diphtheria tetanus toxoid and pertussis (DTP3) immunization coverage among 1-year-olds as a percentage), hiv/aids (deaths per 1000 live births (0-4 years)), gdp (Gross Domestic Product per capita (in USD)), population, thinness__1-19_years (prevalence of thinness among children and adolescents for ages 10 to 19 as a percentage), thinness_5-9_years (prevalence of thinness among children for age 5 to 9 as a percentage), income_composition_of_resources (Human Development Index in terms of income composition of resources (index ranging from 0 to 1)), schooling (average number of years of schooling).\n",
    "\n",
    "**Why was this data set created?**\n",
    "\n",
    "Both the Global Health Observatory (GHO) data repository under the World Health Organization (WHO) and the United Nations track health statistics as well as many other related factors (economic, social, etc.) for all countries. The creators of this data set combined the data from the repository with that of the UN. They observed that in the past 15 years, there have been significant developments in the health sector specifically in terms of decreasing human mortality rates. They created this data set to compare this decreasing mortality rate to a number of other economic, educational, and medical factors to analyze how they contribute.\n",
    "\n",
    "**Who funded the creation of the data set?**\n",
    "\n",
    "This project was funded by the Industrial Engineering Department at Georgia Institute of Technology.\n",
    "\n",
    "**What processes might have influenced what data was observed and recorded and what was not?**\n",
    "\n",
    "In terms of the WHO collecting data, it is possible that more developed countries have more resources and are thus more likely to have more data. With this said, in order to compare each country equitably, the data collectors must collect the same data across all countries. This means that it is possible that the data collection was limited by what data variables were available across every country.\n",
    "\n",
    "In terms of the creation of the actual data set, the creators mentioned a few factors they used to limit the data set: The creators of this data set noted that there were certain countries originally in this data set that had lots of missing data (they noted lesser known countries like Vanuatu, Tonga, Togo, Cabo Verde etc.). They shared that finding the data for these countries was difficult, so they decided to exclude the countries from the final data set of 193 countries. The creators also noted that “among all categories of health-related factors only those critical factors were chosen which are more representative”. This means that they omitted other factors that they deemed less important or less correlated to the data set.\n",
    "\n",
    "How they data cleaned: Of all health related categories in the WHO data set, only the critical factors (those with high correlations to mortality rates) were chosen to be included. The creators combined these data sets for the years 2000-2015 for 193 countries using the merge function. To account for the missing values, the developers handled it in R software by using the Missmap command.\n",
    "\n",
    "**What preprocessing was done, and how did the data come to be in the form that you are using?**\n",
    "\n",
    "The preprocessing done by the creators of the data set are outlined in two questions above. The preprocessing we did was outlined in the jupyter notebook data cleaning file.\n",
    "\n",
    "**If people are involved, were they aware of the data collection and if so, what purpose did they expect the data to be used for?**\n",
    "\n",
    "The WHO notes that all of their data sets \"represent the best estimates using methodologies for specific indicators that aim for comparability across countries and time; they are updated as more recent or revised data become available, or when there are changes to the methodology being used\". The people involved in the data collection are aware of their data being collected and understand the WHOs intent to utilize their data to analyze global health trends to serve the greater health of humanity.\n",
    "\n",
    "**Where can your raw source data be found, if applicable? Provide a link to the raw data (hosted in a Cornell Google Drive or Cornell Box).**\n",
    "\n",
    "https://drive.google.com/file/d/1uWotsPMAGiU_x2lEgssgJe6DtITk4r1I/view?usp=sharing\n"
   ]
  },
  {
   "cell_type": "markdown",
   "metadata": {},
   "source": [
    "# Pre-Registration Statement\n",
    "The two analyses we would like to preregister are:\n",
    "\n",
    "1. Single exponential decay regression with HIV/AIDS to predict average years of schooling\n",
    "2. Multiple linear regression with percentage expenditure, income composition of resources, and GDP on life expectancy"
   ]
  },
  {
   "cell_type": "markdown",
   "metadata": {},
   "source": [
    "# Summary Analysis"
   ]
  },
  {
   "cell_type": "markdown",
   "metadata": {},
   "source": [
    "Printed below is a random sample of the cleaned dataset."
   ]
  },
  {
   "cell_type": "code",
   "execution_count": 1,
   "metadata": {},
   "outputs": [
    {
     "data": {
      "text/html": [
       "<div>\n",
       "<style scoped>\n",
       "    .dataframe tbody tr th:only-of-type {\n",
       "        vertical-align: middle;\n",
       "    }\n",
       "\n",
       "    .dataframe tbody tr th {\n",
       "        vertical-align: top;\n",
       "    }\n",
       "\n",
       "    .dataframe thead th {\n",
       "        text-align: right;\n",
       "    }\n",
       "</style>\n",
       "<table border=\"1\" class=\"dataframe\">\n",
       "  <thead>\n",
       "    <tr style=\"text-align: right;\">\n",
       "      <th></th>\n",
       "      <th>country</th>\n",
       "      <th>status</th>\n",
       "      <th>life_expectancy</th>\n",
       "      <th>adult_mortality</th>\n",
       "      <th>percentage_expenditure</th>\n",
       "      <th>bmi</th>\n",
       "      <th>hiv/aids</th>\n",
       "      <th>gdp</th>\n",
       "      <th>income_composition_of_resources</th>\n",
       "      <th>schooling</th>\n",
       "    </tr>\n",
       "  </thead>\n",
       "  <tbody>\n",
       "    <tr>\n",
       "      <th>3</th>\n",
       "      <td>Angola</td>\n",
       "      <td>0.0</td>\n",
       "      <td>49.01875</td>\n",
       "      <td>328.5625</td>\n",
       "      <td>102.100268</td>\n",
       "      <td>18.01875</td>\n",
       "      <td>2.36875</td>\n",
       "      <td>1975.143045</td>\n",
       "      <td>0.458375</td>\n",
       "      <td>8.04375</td>\n",
       "    </tr>\n",
       "    <tr>\n",
       "      <th>108</th>\n",
       "      <td>Pakistan</td>\n",
       "      <td>0.0</td>\n",
       "      <td>64.50000</td>\n",
       "      <td>154.0000</td>\n",
       "      <td>26.120391</td>\n",
       "      <td>18.31250</td>\n",
       "      <td>0.10000</td>\n",
       "      <td>666.111052</td>\n",
       "      <td>0.500875</td>\n",
       "      <td>6.71875</td>\n",
       "    </tr>\n",
       "    <tr>\n",
       "      <th>115</th>\n",
       "      <td>Portugal</td>\n",
       "      <td>1.0</td>\n",
       "      <td>79.99375</td>\n",
       "      <td>58.8750</td>\n",
       "      <td>1614.897046</td>\n",
       "      <td>43.63125</td>\n",
       "      <td>0.10000</td>\n",
       "      <td>11598.625531</td>\n",
       "      <td>0.805000</td>\n",
       "      <td>15.93750</td>\n",
       "    </tr>\n",
       "    <tr>\n",
       "      <th>93</th>\n",
       "      <td>Mexico</td>\n",
       "      <td>0.0</td>\n",
       "      <td>75.71875</td>\n",
       "      <td>111.0625</td>\n",
       "      <td>465.327496</td>\n",
       "      <td>51.41875</td>\n",
       "      <td>0.10000</td>\n",
       "      <td>5179.330807</td>\n",
       "      <td>0.728875</td>\n",
       "      <td>12.32500</td>\n",
       "    </tr>\n",
       "    <tr>\n",
       "      <th>89</th>\n",
       "      <td>Mali</td>\n",
       "      <td>0.0</td>\n",
       "      <td>54.93750</td>\n",
       "      <td>202.1250</td>\n",
       "      <td>48.981177</td>\n",
       "      <td>17.21250</td>\n",
       "      <td>1.82500</td>\n",
       "      <td>530.512170</td>\n",
       "      <td>0.365187</td>\n",
       "      <td>6.43125</td>\n",
       "    </tr>\n",
       "    <tr>\n",
       "      <th>116</th>\n",
       "      <td>Qatar</td>\n",
       "      <td>0.0</td>\n",
       "      <td>77.03125</td>\n",
       "      <td>75.3750</td>\n",
       "      <td>2466.855005</td>\n",
       "      <td>65.65000</td>\n",
       "      <td>0.10000</td>\n",
       "      <td>40748.444104</td>\n",
       "      <td>0.828375</td>\n",
       "      <td>12.85000</td>\n",
       "    </tr>\n",
       "    <tr>\n",
       "      <th>146</th>\n",
       "      <td>Turkmenistan</td>\n",
       "      <td>0.0</td>\n",
       "      <td>64.61875</td>\n",
       "      <td>214.8125</td>\n",
       "      <td>187.781988</td>\n",
       "      <td>38.11875</td>\n",
       "      <td>0.10000</td>\n",
       "      <td>2511.611540</td>\n",
       "      <td>0.211625</td>\n",
       "      <td>9.83125</td>\n",
       "    </tr>\n",
       "    <tr>\n",
       "      <th>139</th>\n",
       "      <td>Thailand</td>\n",
       "      <td>0.0</td>\n",
       "      <td>73.08125</td>\n",
       "      <td>160.3750</td>\n",
       "      <td>401.259963</td>\n",
       "      <td>21.59375</td>\n",
       "      <td>0.38750</td>\n",
       "      <td>3494.781702</td>\n",
       "      <td>0.694688</td>\n",
       "      <td>12.55000</td>\n",
       "    </tr>\n",
       "    <tr>\n",
       "      <th>150</th>\n",
       "      <td>Uruguay</td>\n",
       "      <td>0.0</td>\n",
       "      <td>76.07500</td>\n",
       "      <td>119.9375</td>\n",
       "      <td>621.838919</td>\n",
       "      <td>52.92500</td>\n",
       "      <td>0.10000</td>\n",
       "      <td>7192.584875</td>\n",
       "      <td>0.765625</td>\n",
       "      <td>15.23125</td>\n",
       "    </tr>\n",
       "    <tr>\n",
       "      <th>119</th>\n",
       "      <td>Rwanda</td>\n",
       "      <td>0.0</td>\n",
       "      <td>59.31250</td>\n",
       "      <td>246.8125</td>\n",
       "      <td>20.191353</td>\n",
       "      <td>14.75000</td>\n",
       "      <td>4.42500</td>\n",
       "      <td>300.018017</td>\n",
       "      <td>0.417687</td>\n",
       "      <td>9.28750</td>\n",
       "    </tr>\n",
       "  </tbody>\n",
       "</table>\n",
       "</div>"
      ],
      "text/plain": [
       "          country  status  life_expectancy  adult_mortality  \\\n",
       "3          Angola     0.0         49.01875         328.5625   \n",
       "108      Pakistan     0.0         64.50000         154.0000   \n",
       "115      Portugal     1.0         79.99375          58.8750   \n",
       "93         Mexico     0.0         75.71875         111.0625   \n",
       "89           Mali     0.0         54.93750         202.1250   \n",
       "116         Qatar     0.0         77.03125          75.3750   \n",
       "146  Turkmenistan     0.0         64.61875         214.8125   \n",
       "139      Thailand     0.0         73.08125         160.3750   \n",
       "150       Uruguay     0.0         76.07500         119.9375   \n",
       "119        Rwanda     0.0         59.31250         246.8125   \n",
       "\n",
       "     percentage_expenditure       bmi  hiv/aids           gdp  \\\n",
       "3                102.100268  18.01875   2.36875   1975.143045   \n",
       "108               26.120391  18.31250   0.10000    666.111052   \n",
       "115             1614.897046  43.63125   0.10000  11598.625531   \n",
       "93               465.327496  51.41875   0.10000   5179.330807   \n",
       "89                48.981177  17.21250   1.82500    530.512170   \n",
       "116             2466.855005  65.65000   0.10000  40748.444104   \n",
       "146              187.781988  38.11875   0.10000   2511.611540   \n",
       "139              401.259963  21.59375   0.38750   3494.781702   \n",
       "150              621.838919  52.92500   0.10000   7192.584875   \n",
       "119               20.191353  14.75000   4.42500    300.018017   \n",
       "\n",
       "     income_composition_of_resources  schooling  \n",
       "3                           0.458375    8.04375  \n",
       "108                         0.500875    6.71875  \n",
       "115                         0.805000   15.93750  \n",
       "93                          0.728875   12.32500  \n",
       "89                          0.365187    6.43125  \n",
       "116                         0.828375   12.85000  \n",
       "146                         0.211625    9.83125  \n",
       "139                         0.694688   12.55000  \n",
       "150                         0.765625   15.23125  \n",
       "119                         0.417687    9.28750  "
      ]
     },
     "execution_count": 1,
     "metadata": {},
     "output_type": "execute_result"
    }
   ],
   "source": [
    "import matplotlib.pyplot as plt\n",
    "import seaborn as sns\n",
    "import numpy as np\n",
    "import pandas as pd\n",
    "from   sklearn.linear_model import LogisticRegression, LinearRegression\n",
    "df = pd.read_csv('WHOcleaner.csv')\n",
    "df.sample(10)"
   ]
  },
  {
   "cell_type": "markdown",
   "metadata": {},
   "source": [
    "We found the mean of life expectancy and adult mortality overall, as well as for developed vs. developing countries. To reiterate, developing countries have a status value of 0.0 and developed countries have a status value of 1.0."
   ]
  },
  {
   "cell_type": "code",
   "execution_count": 2,
   "metadata": {},
   "outputs": [
    {
     "name": "stdout",
     "output_type": "stream",
     "text": [
      "The average life expectancy is 69.4729.\n"
     ]
    },
    {
     "data": {
      "text/html": [
       "<div>\n",
       "<style scoped>\n",
       "    .dataframe tbody tr th:only-of-type {\n",
       "        vertical-align: middle;\n",
       "    }\n",
       "\n",
       "    .dataframe tbody tr th {\n",
       "        vertical-align: top;\n",
       "    }\n",
       "\n",
       "    .dataframe thead th {\n",
       "        text-align: right;\n",
       "    }\n",
       "</style>\n",
       "<table border=\"1\" class=\"dataframe\">\n",
       "  <thead>\n",
       "    <tr style=\"text-align: right;\">\n",
       "      <th></th>\n",
       "      <th>life_expectancy</th>\n",
       "    </tr>\n",
       "    <tr>\n",
       "      <th>status</th>\n",
       "      <th></th>\n",
       "    </tr>\n",
       "  </thead>\n",
       "  <tbody>\n",
       "    <tr>\n",
       "      <th>0.0</th>\n",
       "      <td>67.278248</td>\n",
       "    </tr>\n",
       "    <tr>\n",
       "      <th>1.0</th>\n",
       "      <td>79.427009</td>\n",
       "    </tr>\n",
       "  </tbody>\n",
       "</table>\n",
       "</div>"
      ],
      "text/plain": [
       "        life_expectancy\n",
       "status                 \n",
       "0.0           67.278248\n",
       "1.0           79.427009"
      ]
     },
     "execution_count": 2,
     "metadata": {},
     "output_type": "execute_result"
    }
   ],
   "source": [
    "print(f\"The average life expectancy is{df.life_expectancy.mean(): 0.4f}.\")\n",
    "df.groupby('status').mean()[['life_expectancy']]"
   ]
  },
  {
   "cell_type": "code",
   "execution_count": 3,
   "metadata": {},
   "outputs": [
    {
     "name": "stdout",
     "output_type": "stream",
     "text": [
      "The average adult mortality is 160.8806.\n"
     ]
    },
    {
     "data": {
      "text/html": [
       "<div>\n",
       "<style scoped>\n",
       "    .dataframe tbody tr th:only-of-type {\n",
       "        vertical-align: middle;\n",
       "    }\n",
       "\n",
       "    .dataframe tbody tr th {\n",
       "        vertical-align: top;\n",
       "    }\n",
       "\n",
       "    .dataframe thead th {\n",
       "        text-align: right;\n",
       "    }\n",
       "</style>\n",
       "<table border=\"1\" class=\"dataframe\">\n",
       "  <thead>\n",
       "    <tr style=\"text-align: right;\">\n",
       "      <th></th>\n",
       "      <th>adult_mortality</th>\n",
       "    </tr>\n",
       "    <tr>\n",
       "      <th>status</th>\n",
       "      <th></th>\n",
       "    </tr>\n",
       "  </thead>\n",
       "  <tbody>\n",
       "    <tr>\n",
       "      <th>0.0</th>\n",
       "      <td>178.779528</td>\n",
       "    </tr>\n",
       "    <tr>\n",
       "      <th>1.0</th>\n",
       "      <td>79.696429</td>\n",
       "    </tr>\n",
       "  </tbody>\n",
       "</table>\n",
       "</div>"
      ],
      "text/plain": [
       "        adult_mortality\n",
       "status                 \n",
       "0.0          178.779528\n",
       "1.0           79.696429"
      ]
     },
     "execution_count": 3,
     "metadata": {},
     "output_type": "execute_result"
    }
   ],
   "source": [
    "print(f\"The average adult mortality is{df.adult_mortality.mean(): 0.4f}.\")\n",
    "df.groupby('status').mean()[['adult_mortality']]"
   ]
  },
  {
   "cell_type": "markdown",
   "metadata": {},
   "source": [
    "We also were curious to determine the ratio of developing countries to developed countries."
   ]
  },
  {
   "cell_type": "code",
   "execution_count": 4,
   "metadata": {},
   "outputs": [
    {
     "data": {
      "text/plain": [
       "status\n",
       "0.0    127\n",
       "1.0     28\n",
       "dtype: int64"
      ]
     },
     "execution_count": 4,
     "metadata": {},
     "output_type": "execute_result"
    }
   ],
   "source": [
    "df.value_counts(subset=df.status)"
   ]
  },
  {
   "cell_type": "markdown",
   "metadata": {},
   "source": [
    "In phase two, we ran for-loops to find the correlations of all the the other variables with life-expectancy and adult mortality. We found that HIV/AIDs rates and schooling both have relatively high correlations with adult mortality, and percentage expenditure, income composition of resources, and GDP all had high correlations with life expectancy. "
   ]
  },
  {
   "cell_type": "code",
   "execution_count": 5,
   "metadata": {},
   "outputs": [
    {
     "name": "stdout",
     "output_type": "stream",
     "text": [
      "The correlation between percentage expenditure and life expectancy is 0.56.\n",
      "The correlation between income composition of resources and life expectancy is 0.82.\n",
      "The correlation between GDP and life expectancy is 0.61.\n"
     ]
    }
   ],
   "source": [
    "per = df['percentage_expenditure'].corr(df['life_expectancy'])\n",
    "inc = df['income_composition_of_resources'].corr(df['life_expectancy'])\n",
    "gdp = df['gdp'].corr(df['life_expectancy'])\n",
    "print(f'The correlation between percentage expenditure and life expectancy is {per:0.2F}.')\n",
    "print(f'The correlation between income composition of resources and life expectancy is {inc:0.2F}.')\n",
    "print(f'The correlation between GDP and life expectancy is {gdp:0.2F}.')"
   ]
  },
  {
   "cell_type": "code",
   "execution_count": 6,
   "metadata": {},
   "outputs": [
    {
     "name": "stdout",
     "output_type": "stream",
     "text": [
      "The correlation between HIV/AIDs rates and adult mortality is 0.73.\n",
      "The correlation between schooling amount and adult mortality is -0.59.\n"
     ]
    }
   ],
   "source": [
    "hiv = df['adult_mortality'].corr(df['hiv/aids'])\n",
    "school = df['adult_mortality'].corr(df['schooling'])\n",
    "print(f'The correlation between HIV/AIDs rates and adult mortality is {hiv:0.2F}.')\n",
    "print(f'The correlation between schooling amount and adult mortality is {school:0.2F}.')"
   ]
  },
  {
   "cell_type": "markdown",
   "metadata": {},
   "source": [
    "The three variables correlated with life expectancy all relate to each other in the sense that they all correspond to economic factors of a country. Thus, it makes sense to group them in a multiple linear regression. "
   ]
  },
  {
   "cell_type": "markdown",
   "metadata": {},
   "source": [
    "However, HIV/AIDs and schooling are very different. Since both variables have a high correlation with adult mortality, we wanted to see if they also had a relationship. We figured that these variables would have an exponential decay regression relationship because more education would involve sex education, but education past high school does not really include sex education."
   ]
  },
  {
   "cell_type": "markdown",
   "metadata": {},
   "source": [
    "Before we perform our analyses we wanted to explore the means, standard deviations, minimum values, and maximum values of all eight attributes we are working with to better understand their distributions. "
   ]
  },
  {
   "cell_type": "code",
   "execution_count": 13,
   "metadata": {},
   "outputs": [
    {
     "name": "stdout",
     "output_type": "stream",
     "text": [
      "life_expectancy:\n",
      "The mean of life_expectancy is  69.47.\n",
      "The standard deviation of life_expectancy is 9.27.\n",
      "The minimum value of life_expectancy is 46.11.\n",
      "The maximum value of life_expectancy is 82.54.\n",
      "\n",
      "adult_mortality:\n",
      "The mean of adult_mortality is  160.88.\n",
      "The standard deviation of adult_mortality is 96.47.\n",
      "The minimum value of adult_mortality is 18.75.\n",
      "The maximum value of adult_mortality is 550.06.\n",
      "\n",
      "percentage_expenditure:\n",
      "The mean of percentage_expenditure is  873.37.\n",
      "The standard deviation of percentage_expenditure is 1573.34.\n",
      "The minimum value of percentage_expenditure is 6.44.\n",
      "The maximum value of percentage_expenditure is 9801.81.\n",
      "\n",
      "income_composition_of_resources:\n",
      "The mean of income_composition_of_resources is  0.63.\n",
      "The standard deviation of income_composition_of_resources is 0.19.\n",
      "The minimum value of income_composition_of_resources is 0.18.\n",
      "The maximum value of income_composition_of_resources is 0.93.\n",
      "\n",
      "gdp:\n",
      "The mean of gdp is  7515.41.\n",
      "The standard deviation of gdp is 10874.48.\n",
      "The minimum value of gdp is 137.82.\n",
      "The maximum value of gdp is 57362.87.\n",
      "\n",
      "hiv/aids:\n",
      "The mean of hiv/aids is  1.88.\n",
      "The standard deviation of hiv/aids is 4.76.\n",
      "The minimum value of hiv/aids is 0.10.\n",
      "The maximum value of hiv/aids is 32.94.\n",
      "\n",
      "schooling:\n",
      "The mean of schooling is  12.14.\n",
      "The standard deviation of schooling is 3.11.\n",
      "The minimum value of schooling is 4.02.\n",
      "The maximum value of schooling is 20.04.\n",
      "\n"
     ]
    }
   ],
   "source": [
    "li = df[['life_expectancy','adult_mortality','percentage_expenditure','income_composition_of_resources','gdp','hiv/aids','schooling']]\n",
    "for x in li.columns:\n",
    "    mean= df[x].mean()\n",
    "    std = df[x].std()\n",
    "    minv = df[x].min()\n",
    "    maxv = df[x].max()\n",
    "    print(f'{x}:')\n",
    "    print(f'The mean of {x} is {mean: 0.2F}.')\n",
    "    print(f'The standard deviation of {x} is {std:0.2F}.')\n",
    "    print(f'The minimum value of {x} is {minv:0.2F}.')\n",
    "    print(f'The maximum value of {x} is {maxv:0.2F}.')\n",
    "    print(f'')\n",
    "    \n",
    "    "
   ]
  },
  {
   "cell_type": "markdown",
   "metadata": {},
   "source": [
    "# Data Analysis"
   ]
  },
  {
   "cell_type": "markdown",
   "metadata": {},
   "source": [
    "**Exponential Decay Regression: HIV/AIDs and Schooling**"
   ]
  },
  {
   "cell_type": "code",
   "execution_count": null,
   "metadata": {},
   "outputs": [],
   "source": [
    "#transform output variable\n",
    "x='hiv/aids'\n",
    "y= 'schooling'\n",
    "log_y = np.log(df[y])\n",
    "pred= []\n",
    "cleaned_pred= []\n",
    "\n",
    "#relationship\n",
    "model = LinearRegression().fit(df[[x]], log_y)\n",
    "pred.append(np.exp(model.intercept_) * np.exp(model.coef_[0] * df[x]))\n",
    "y_pred = np.exp(model.intercept_) * np.exp(model.coef_[0] * df[x])\n",
    "cleaned_pred.append(y_pred)\n",
    "\n",
    "#graph\n",
    "plt.figure()\n",
    "sns.scatterplot(data=df, y=\"schooling\", x='hiv/aids')\n",
    "indices = np.argsort(df[x].values)\n",
    "plt.plot(df[x].values[indices], cleaned_pred[0][indices], c='orange')\n",
    "plt.ylabel('Schooling')\n",
    "plt.xlabel('HIV/AIDS')\n",
    "plt.tight_layout()\n",
    "print(f\"Coefficient:{model.coef_[0]: 0.4f}.\")\n",
    "print(f\"Intercept:{model.intercept_: 0.4f}.\")\n",
    "print(f\"r^2:{model.score(df[[x]], log_y): 0.4f}.\")"
   ]
  },
  {
   "cell_type": "markdown",
   "metadata": {},
   "source": [
    "We originally preregistered a hypothesis that HIV/AIDs could be used to predict schooling with an exponential decay model. After running this regression, we notice that it has a low correlation of determination and the graph does not fit the data well. Reflecting on our previous thoughts, we realize that we meant to predict the inverse relationship, where the amount of schooling predicts the prevelance of HIV/AIDs in a country with a exponential decay model. To see if this is true, we will run the same model with the two variables flipped below."
   ]
  },
  {
   "cell_type": "code",
   "execution_count": null,
   "metadata": {},
   "outputs": [],
   "source": [
    "#transform output variable\n",
    "y='hiv/aids'\n",
    "x='schooling'\n",
    "log_y = np.log(df[y])\n",
    "pred= []\n",
    "cleaned_pred= []\n",
    "\n",
    "#relationship\n",
    "model = LinearRegression().fit(df[[x]], log_y)\n",
    "pred.append(np.exp(model.intercept_) * np.exp(model.coef_[0] * df[x]))\n",
    "y_pred = np.exp(model.intercept_) * np.exp(model.coef_[0] * df[x])\n",
    "cleaned_pred.append(y_pred)\n",
    "\n",
    "#graph\n",
    "plt.figure()\n",
    "sns.scatterplot(data=df, x=\"schooling\", y='hiv/aids')\n",
    "indices = np.argsort(df[x].values)\n",
    "plt.plot(df[x].values[indices], cleaned_pred[0][indices], c='orange')\n",
    "plt.xlabel('Schooling')\n",
    "plt.ylabel('HIV/AIDS')\n",
    "plt.tight_layout()\n",
    "print(f\"Coefficient:{model.coef_[0]: 0.4f}.\")\n",
    "print(f\"Intercept:{model.intercept_: 0.4f}.\")\n",
    "print(f\"r^2:{model.score(df[[x]], log_y): 0.4f}.\")"
   ]
  },
  {
   "cell_type": "markdown",
   "metadata": {},
   "source": [
    "**Interpretation and Conclusions:**\n",
    "\n",
    "As seen above, this inversion of the axes clearly fits the exponential decay model better. However, the model does not seem very predictive because the r-squared value of 0.3418 is still low, implying that this average years of schooling in an exponential decay model is not a great way to predict the prevalence of HIV/AIDs.\n",
    "\n",
    "After graphing the scatter plot and model line above, it appears that countries with many years of schooling have an HIV/AIDs rate that approaches 0.00, following the exponential decay model. However, below 13 average years of schooling the data is much more varied and there are many data points that have rates of HIV/AIDs that fall far above our regression line. Thus, this data does not accurately fit the exponential decay model. \n",
    "\n",
    "Overall, our original hypothesis that schooling has a high predictive value for HIV/AIDs seems to be inconclusive, as the exponential decay model did not fit as well as intended, and the scatterplot has an interesting shape that likely would not match other models as well.\n",
    "\n",
    "From these results, we can conclude that when a country has more than 13 average years of schooling, they have a high GDP to allocate to schooling, thus they also likely have the funds to support healthcare, thus they have the resources to keep rates of HIV/AIDs low. The next analysis will determine whether or not spending on education is related to spending on healthcare. \n",
    "\n",
    "If a country has fewer than 13 years of schooling, the HIV/AIDs rates may be higher because citizens of poorer countries have weaker immune systems have been compromised by prior infections. They are also further placed at risk by their lack of accessibility to health care services and information about HIV/AIDs. Additionally, a number of other factors could influence the HIV/AIDs prevelance in poorer countries, causing the data to show higher variance. These factors include but are not limited to access to safe abortion procedures, access to testing for HIV/AIDs, etc.. "
   ]
  },
  {
   "cell_type": "markdown",
   "metadata": {},
   "source": [
    "# Single Linear Regression: Income Composition of Resources\n",
    "\n",
    "Based off the previous model of HIV/AIDs, we cannot predict much from average amount of schooling, but since schooling has such a high correlation to life expectancy in this data set as we found in phase ii, we want to explore it more. Specifically, comparing schooling to income composition of resources is particularly interesting. Both income composition of resources and schooling had high correlations with life expectancy, so we suspect these variables have a linear relationship. If there is a positive linear relationship, since income composition of resources relates to how efficiently a country uses its resources, this would mean that schooling is a very efficient and effective way for governments to spend money."
   ]
  },
  {
   "cell_type": "code",
   "execution_count": null,
   "metadata": {},
   "outputs": [],
   "source": [
    "school_model = LinearRegression()\n",
    "school_model.fit(df[['income_composition_of_resources']], df['schooling'])\n",
    "plt.scatter(df.income_composition_of_resources, df.schooling)\n",
    "plt.plot(df.income_composition_of_resources, school_model.predict(df[['income_composition_of_resources']]), c='orange')\n",
    "plt.show()\n",
    "print(f\"r^2: {school_model.score(df[['income_composition_of_resources']], df['schooling']): 0.4f}.\")"
   ]
  },
  {
   "cell_type": "markdown",
   "metadata": {},
   "source": [
    "**Interpretation and Conclusions:**\n",
    "\n",
    "As seen above, the scatterplot closely fits a linear regression model and has a very high coefficient of determination of 0.7395. This means that as income composition of resources increases, there is a high predictive chance that a country has higher amounts of schooling. Essentially, if a country is efficiently spending their money, they also likely have a high average years of schooling. Going back to the exponential decay regression above, we can now confirm that countries that spend their GDP efficiently are more likely to spend more on schooling, thus have a higher number of average years of schooling, thus have lower rates of HIV/AIDs."
   ]
  },
  {
   "cell_type": "markdown",
   "metadata": {},
   "source": [
    "**Multiple Linear Regression: percentage expenditure on health, income composition of resources, and gdp as predictors of life expectancy**"
   ]
  },
  {
   "cell_type": "code",
   "execution_count": null,
   "metadata": {},
   "outputs": [],
   "source": [
    "multireg= LinearRegression().fit(df[[\"percentage_expenditure\", \"income_composition_of_resources\", \"gdp\"]], df[\"life_expectancy\"])\n",
    "multi= multireg.score(df[[\"percentage_expenditure\", \"income_composition_of_resources\", \"gdp\"]], df[\"life_expectancy\"])\n",
    "print(f\"r^2: {multi:0.4f}.\")"
   ]
  },
  {
   "cell_type": "code",
   "execution_count": null,
   "metadata": {},
   "outputs": [],
   "source": [
    "sns.relplot(x= \"percentage_expenditure\", y=\"life_expectancy\", data=df)\n",
    "sns.relplot(x=\"gdp\", y=\"life_expectancy\", data=df)\n",
    "sns.relplot(x=\"income_composition_of_resources\", y=\"life_expectancy\", data=df)"
   ]
  },
  {
   "cell_type": "markdown",
   "metadata": {},
   "source": [
    "**Interpretation and Conclusions**<br>\n",
    "\n",
    "With a coefficient of determination of 0.6779, the multiple linear regression shows that percentage expenditure on health, income composition of resources, and GDP account for a high percentage of the variance of life expectancy. We plotted the scatter plots of each predictor variable with life expectancy to show how the graphs share an increasing nature. \n",
    "\n",
    "Percentage expenditure and GDP have a similar relationship, where life expectancy increases while the two predictor variables stay close to 0, and then the data starts to curve when the percentage expenditure reaches about 1000 and GDP reaches about 75000. This relationship suggests that life expectancy varies significantly (between 46 and 72) when percentage expenditure is low (between 0% and 1000%); however, when a country spends more than 1000% of GDP per capita on health, the life expectancy is consisitantly between 72 and 83 years. Similarly, when a country has a GDP per capita between 0 and 75000 US dollars, their life expectancy ranges between 46 and 72; however, when a country has a GDP per capita higher than 75000 US dollars, the life expectancy is pretty consistantly between 72 and 83 years.\n",
    "\n",
    "\n",
    "The plot of income composition of resources and GDP shows higher variance and a more linear relationship. The data has high variance between 0 and 0.65 of Human Development Index in terms of income composition of resources and between 42 and 72 life expectancy; however, the data becomes more clustered with less error as income composition of resources is higher than 0.65 and life expectance is higher than 72. \n",
    "\n",
    "In a real world application, this finding suggests that the GDP of a country and the amount of money that country chooses to allocate to healthcare can be used to accurately predict the average life expectancy of that country. This makes sense, as the more money a country has and the more of this money they put towards health, the better quality and quantity healthcare workers, facilities, and resources. This makes it so that ill people are able to easily attain the treatment they need, thus increasing the overall live expectancy. The variance between 46 and 72 of life expectancy on all three graphs when a country spent little on healthcare are likely caused by incurable illnesses or other physical attributes of the country like size, population, and climate, rather than to the economic factors we explored."
   ]
  },
  {
   "cell_type": "markdown",
   "metadata": {},
   "source": [
    "# Evaluation of Significance\n",
    "**Bootstrapping Hypothesis Test on Multiple Linear Regression**"
   ]
  },
  {
   "cell_type": "code",
   "execution_count": null,
   "metadata": {
    "scrolled": true
   },
   "outputs": [],
   "source": [
    "real_slope = multireg.coef_[0]\n",
    "n_bootstrap = 1000\n",
    "bootstrap_slopes = np.zeros(n_bootstrap)\n",
    "\n",
    "for i in range(n_bootstrap):\n",
    "    resampled_data = df.sample(n=len(df), replace=True)\n",
    "    resampled_model = LinearRegression().fit(resampled_data[[\"percentage_expenditure\", \"income_composition_of_resources\", \"gdp\"]], resampled_data[\"life_expectancy\"])\n",
    "    \n",
    "    bootstrap_slopes[i] = resampled_model.coef_[0]\n",
    "    \n",
    "print(f'Observed slope:  {real_slope: 0.7f}')\n",
    "print(f'Bootstrapped CI: {np.quantile(bootstrap_slopes, q=[0.025, 0.975])}')\n",
    "\n",
    "binsizes, _, _ = plt.hist(bootstrap_slopes, bins=50)\n",
    "plt.vlines(real_slope, ymin=0, ymax=np.max(binsizes), color='red')\n",
    "plt.vlines(np.quantile(bootstrap_slopes, q=[0.025])[0], ymin=0, ymax=np.max(binsizes), color='green')\n",
    "plt.vlines(np.quantile(bootstrap_slopes, q=[0.975])[0], ymin=0, ymax=np.max(binsizes), color='green')\n",
    "plt.show()"
   ]
  },
  {
   "cell_type": "markdown",
   "metadata": {},
   "source": [
    "**Interpretation and Conclusions**\n",
    "\n",
    "We performed a boostrap resampling hypothesis test on the multiple linear regression of percentage expenditure on health, income composition of resources, and GDP as predictors of life expectancy. We took 100 different samples of our data with replacement and found the confidence interval printed above. Since our observed slope was 0.0004132, our slope falls within our confidence interval. This proves that our observed pattern is robust."
   ]
  },
  {
   "cell_type": "markdown",
   "metadata": {},
   "source": [
    "# Limitations \n",
    "What are the limitations of your study? What are the biases in your data or assumptions of your analyses that specifically affect the conclusions you're able to draw? <br>\n",
    "\n",
    "Limitations: \n",
    "- Our dataset only includes 173 countries out of 195. While this is a large sample size, we must note that this does not account for all countries.\n",
    "- Our dataset includes mostly developing countries. While, once again, this data does reflect the same ratio of developed to developing countries, developing countries may lack the data infrastructure to accurately collect data.\n",
    "- A variable such as the rating of the quality of schooling could allow us to strengthen our argument about schooling. Just because a country has a high number of average years of schooling does not indicate that that education is high quality. Other variables such as the number of universities, availability of jobs, percentage of people attending school, gender roles, etc. could also play into the quality of education in a country. The number of universities could help in determining why a country with a high GDP may not have a high number of years of schooling. Additionally, some kind of statistic on gender roles or the number of people attending school would help us to determine if, for example, men in a country go to school for 14 years on average and the women in that country don’t attend school at all, the average number of years of schooling would be 7 which doesn’t accurately reflect the number of people attending school.\n",
    "- There are a plethora of different confounding variables that could affect the overall health of the people in a country. For instance, politics, war status, genetics, climate, ethnicity, culture, and more can all tie into different health factors and life expectancy. For example, some countries have warmer climates, where certain diseases may thrive more. Additionally, countries have different ethnic makeups, with groups of people that have varying genetic health preconditions and characteristics. There are a number of different confounding variables like these that limit the actual predictive value of economic and educational factors on health.\n",
    "\n",
    "\n",
    "Biases: \n",
    "- As stated in our limitations section, developing countries may lack the data infrastructure to accurately and reliably collect data. It is worth noting that both the WHO and the UN explain how they support countries in data collection, it is a valid concern to consider the challenges that come with collecting data in a developing country.\n",
    "- There is inherent bias in declaring a country developed or undeveloped. While this determining factor is standardized and based on numbers determined by professionals, there will always exist some sort of bias in categorical variables like this.\n",
    "- Since each country collects their own data, we must acknowledge that there could exist politically motivated bias in the data collection or representation. Once again, while the WHO and the UN have strict procedures for data collection, there always exists a possibility that bias is involved in the collection process.\n"
   ]
  },
  {
   "cell_type": "markdown",
   "metadata": {},
   "source": [
    "# Source Code\n",
    "\n",
    "Github link: https://github.com/milan-patlikh/info-2950"
   ]
  },
  {
   "cell_type": "markdown",
   "metadata": {},
   "source": [
    "# Acknowledgments\n",
    "\n",
    "Software Packages: Pandas, Numpy, Matplotlib, Seaborn<br>\n",
    "\n",
    "Homework 6 question 4 solutions from Maria (TA)<br>\n",
    "Homeworks 4-7<br>\n",
    "Lectures 10-19<br>\n",
    "\n",
    "Dataset Source: https://www.kaggle.com/kumarajarshi/life-expectancy-who <br>\n",
    "\n",
    "Original Data Sources: Global Health Observatory (GHO) data repository under the World Health Organization (WHO); the United Nations data repository<br>\n",
    "\n",
    "Consulted with TAs Maria and Sam in office hours.<br>\n",
    "\n",
    "We did not consult any stack overflow questions, other classes, or people outside of each other, Sam, and Maria.\n",
    "\n",
    "Additional sources used to aid the writing of conclusions: <br>\n",
    "https://towardsdatascience.com/how-different-factors-have-an-influence-on-your-life-expectancy-7b807b04f33e <br>"
   ]
  },
  {
   "cell_type": "code",
   "execution_count": null,
   "metadata": {},
   "outputs": [],
   "source": []
  }
 ],
 "metadata": {
  "kernelspec": {
   "display_name": "Python 3",
   "language": "python",
   "name": "python3"
  },
  "language_info": {
   "codemirror_mode": {
    "name": "ipython",
    "version": 3
   },
   "file_extension": ".py",
   "mimetype": "text/x-python",
   "name": "python",
   "nbconvert_exporter": "python",
   "pygments_lexer": "ipython3",
   "version": "3.8.5"
  }
 },
 "nbformat": 4,
 "nbformat_minor": 5
}
