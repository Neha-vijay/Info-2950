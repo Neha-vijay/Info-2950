{
 "cells": [
  {
   "cell_type": "markdown",
   "metadata": {},
   "source": [
    "# 2950 Project Phase II"
   ]
  },
  {
   "cell_type": "code",
   "execution_count": 1,
   "metadata": {},
   "outputs": [],
   "source": [
    "import matplotlib.pyplot as plt\n",
    "import seaborn as sns\n",
    "import numpy as np\n",
    "import pandas as pd\n",
    "from   sklearn.linear_model import LogisticRegression, LinearRegression"
   ]
  },
  {
   "cell_type": "code",
   "execution_count": 2,
   "metadata": {},
   "outputs": [],
   "source": [
    "df = pd.read_csv('WHOcleaner.csv')"
   ]
  },
  {
   "cell_type": "markdown",
   "metadata": {},
   "source": [
    "# Exponential Decay Regression: HIV/AIDs and Schooling"
   ]
  },
  {
   "cell_type": "code",
   "execution_count": 14,
   "metadata": {},
   "outputs": [
    {
     "name": "stdout",
     "output_type": "stream",
     "text": [
      "Coefficient:-0.3130.\n",
      "Intercept: 2.6674.\n",
      "r^2: 0.3418.\n"
     ]
    },
    {
     "data": {
      "image/png": "[encoded data removed]",
      "text/plain": [
       "<Figure size 432x288 with 1 Axes>"
      ]
     },
     "metadata": {
      "needs_background": "light"
     },
     "output_type": "display_data"
    }
   ],
   "source": [
    "#transform output variable\n",
    "df = df.loc[df['hiv/aids']>0.1]\n",
    "y='hiv/aids'\n",
    "x= 'schooling'\n",
    "log_y = np.log(df[y])\n",
    "pred= []\n",
    "cleaned_pred= []\n",
    "\n",
    "#relationship\n",
    "model = LinearRegression().fit(df[[x]], log_y)\n",
    "pred.append(np.exp(model.intercept_) * np.exp(model.coef_[0] * df[x]))\n",
    "y_pred = np.exp(model.intercept_) * np.exp(model.coef_[0] * df[x])\n",
    "cleaned_pred.append(y_pred)\n",
    "\n",
    "#graph\n",
    "plt.figure()\n",
    "sns.scatterplot(data=df, x=\"schooling\", y='hiv/aids')\n",
    "indices = np.argsort(df[x].values)\n",
    "plt.plot(df[x].values[indices], cleaned_pred[0][indices], c='orange')\n",
    "plt.xlabel('Schooling')\n",
    "plt.ylabel('HIV/AIDS')\n",
    "plt.tight_layout()\n",
    "print(f\"Coefficient:{model.coef_[0]: 0.4f}.\")\n",
    "print(f\"Intercept:{model.intercept_: 0.4f}.\")\n",
    "print(f\"r^2:{model.score(df[[x]], log_y): 0.4f}.\")"
   ]
  },
  {
   "cell_type": "markdown",
   "metadata": {},
   "source": [
    "# Multiple Linear Regression"
   ]
  },
  {
   "cell_type": "code",
   "execution_count": 4,
   "metadata": {},
   "outputs": [
    {
     "data": {
      "text/plain": [
       "0.6779216915496652"
      ]
     },
     "execution_count": 4,
     "metadata": {},
     "output_type": "execute_result"
    }
   ],
   "source": [
    "multireg= LinearRegression().fit(df[[\"percentage_expenditure\", \"income_composition_of_resources\", \"gdp\"]], df[\"life_expectancy\"])\n",
    "multireg.score(df[[\"percentage_expenditure\", \"income_composition_of_resources\", \"gdp\"]], df[\"life_expectancy\"])"
   ]
  },
  {
   "cell_type": "code",
   "execution_count": null,
   "metadata": {},
   "outputs": [],
   "source": []
  },
  {
   "cell_type": "code",
   "execution_count": null,
   "metadata": {},
   "outputs": [],
   "source": []
  }
 ],
 "metadata": {
  "kernelspec": {
   "display_name": "Python 3",
   "language": "python",
   "name": "python3"
  },
  "language_info": {
   "codemirror_mode": {
    "name": "ipython",
    "version": 3
   },
   "file_extension": ".py",
   "mimetype": "text/x-python",
   "name": "python",
   "nbconvert_exporter": "python",
   "pygments_lexer": "ipython3",
   "version": "3.8.5"
  }
 },
 "nbformat": 4,
 "nbformat_minor": 5
}
